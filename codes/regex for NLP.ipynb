{
 "cells": [
  {
   "cell_type": "code",
   "execution_count": 3,
   "id": "34beb95c-d8a2-4e46-8bdd-f830378cd947",
   "metadata": {},
   "outputs": [],
   "source": [
    "import re"
   ]
  },
  {
   "cell_type": "code",
   "execution_count": 49,
   "id": "b8a7d1de-fedb-4255-91b7-ddccc303fea6",
   "metadata": {},
   "outputs": [],
   "source": [
    "chat1 = 'codebasics: you ask lot of questions 😠  1235678912, abc@xyz.com'\n",
    "chat2 = 'codebasics: here it is: (123)-567-8912, abX_82@xyz.com'\n",
    "chat3 = 'codebasics: yes, phone: 1235678912 email: abc@xyz.com'"
   ]
  },
  {
   "cell_type": "code",
   "execution_count": 50,
   "id": "00aa6564-27bb-45e4-b4c4-f77662335681",
   "metadata": {},
   "outputs": [
    {
     "data": {
      "text/plain": [
       "['1235678912']"
      ]
     },
     "execution_count": 50,
     "metadata": {},
     "output_type": "execute_result"
    }
   ],
   "source": [
    "# Get phone number\n",
    "pattern1 = '\\(\\d{3}\\)-\\d{3}-\\d{4}|\\d{10}'\n",
    "PhoneNo = re.findall(pattern,chat3)\n",
    "PhoneNo"
   ]
  },
  {
   "cell_type": "code",
   "execution_count": 51,
   "id": "246196ff-6954-4115-9f20-7aab3bc1bb5a",
   "metadata": {},
   "outputs": [
    {
     "data": {
      "text/plain": [
       "['abX_82@xyz.com']"
      ]
     },
     "execution_count": 51,
     "metadata": {},
     "output_type": "execute_result"
    }
   ],
   "source": [
    "# Get email\n",
    "pattern2 = '[a-z0-9A-Z_]*@[a-z0-9A-Z]*\\.[a-zA-Z]*'\n",
    "Email = re.findall(pattern2,chat2)\n",
    "Email"
   ]
  },
  {
   "cell_type": "code",
   "execution_count": 47,
   "id": "8e11d6f1-5753-485d-b781-93aa3a1d04a1",
   "metadata": {},
   "outputs": [],
   "source": [
    "# Get order\n",
    "chat1='codebasics: Hello, I am having an issue with my order # 412889912'\n",
    "chat2='codebasics: I have a problem with my order number 412889912'\n",
    "chat3='codebasics: My order 412889912 is having an issue, I was charged 300$ when online it says 280'\n"
   ]
  },
  {
   "cell_type": "code",
   "execution_count": 39,
   "id": "93368904-cda3-4a0c-9476-116957d39b2c",
   "metadata": {},
   "outputs": [
    {
     "data": {
      "text/plain": [
       "['412889912']"
      ]
     },
     "execution_count": 39,
     "metadata": {},
     "output_type": "execute_result"
    }
   ],
   "source": [
    "pattern3 = 'order[^\\d]*(\\d*)'\n",
    "OrderNo = re.findall(pattern3,chat3)\n",
    "OrderNo"
   ]
  },
  {
   "cell_type": "code",
   "execution_count": 58,
   "id": "a9161f55-7245-493d-88ae-d38de432c2a5",
   "metadata": {},
   "outputs": [],
   "source": [
    "text='''\n",
    "Born\tElon Reeve Musk\n",
    "June 28, 1971 (age 50)\n",
    "Pretoria, Transvaal, South Africa\n",
    "Citizenship\t\n",
    "South Africa (1971–present)\n",
    "Canada (1971–present)\n",
    "United States (2002–present)\n",
    "Education\tUniversity of Pennsylvania (BS, BA)\n",
    "Title\t\n",
    "Founder, CEO and Chief Engineer of SpaceX\n",
    "CEO and product architect of Tesla, Inc.\n",
    "Founder of The Boring Company and X.com (now part of PayPal)\n",
    "Co-founder of Neuralink, OpenAI, and Zip2\n",
    "Spouse(s)\t\n",
    "Justine Wilson\n",
    "​\n",
    "​(m. 2000; div. 2008)​\n",
    "Talulah Riley\n",
    "​\n",
    "​(m. 2010; div. 2012)​\n",
    "​\n",
    "​(m. 2013; div. 2016)\n",
    "'''"
   ]
  },
  {
   "cell_type": "code",
   "execution_count": 61,
   "id": "8fba6708-d132-4fd9-a2b5-05ca62f69bd3",
   "metadata": {},
   "outputs": [
    {
     "data": {
      "text/plain": [
       "['50']"
      ]
     },
     "execution_count": 61,
     "metadata": {},
     "output_type": "execute_result"
    }
   ],
   "source": [
    "pattern4 = 'age (\\d+)'\n",
    "Age = re.findall(pattern4,text)\n",
    "Age"
   ]
  },
  {
   "cell_type": "code",
   "execution_count": 62,
   "id": "1d5a98bf-bef9-47d8-be90-94fa66cc0f7a",
   "metadata": {},
   "outputs": [
    {
     "data": {
      "text/plain": [
       "'Elon Reeve Musk'"
      ]
     },
     "execution_count": 62,
     "metadata": {},
     "output_type": "execute_result"
    }
   ],
   "source": [
    "pattern5 = 'Born(.*)'\n",
    "Name = re.findall(pattern5,text)\n",
    "Name[0].strip()"
   ]
  },
  {
   "cell_type": "code",
   "execution_count": 63,
   "id": "4902ee15-e198-4238-9168-17de62b83cde",
   "metadata": {},
   "outputs": [
    {
     "data": {
      "text/plain": [
       "['June 28, 1971 ']"
      ]
     },
     "execution_count": 63,
     "metadata": {},
     "output_type": "execute_result"
    }
   ],
   "source": [
    "pattern6 = 'Born.*\\n(.*)\\(age'\n",
    "DoB = re.findall(pattern6,text)\n",
    "DoB"
   ]
  },
  {
   "cell_type": "code",
   "execution_count": 71,
   "id": "73efada6-562b-4460-a635-a2533df18505",
   "metadata": {},
   "outputs": [
    {
     "data": {
      "text/plain": [
       "'Pretoria, Transvaal, South Africa'"
      ]
     },
     "execution_count": 71,
     "metadata": {},
     "output_type": "execute_result"
    }
   ],
   "source": [
    "pattern7 = '\\(age.*\\n(.*)'\n",
    "Birth_Place = re.findall(pattern7,text)\n",
    "Birth_Place[0].strip()\n"
   ]
  },
  {
   "cell_type": "code",
   "execution_count": 72,
   "id": "1928c4f6-a803-4fa4-b153-197300f38cae",
   "metadata": {},
   "outputs": [],
   "source": [
    "def get_match(pattern, text):\n",
    "    matches = re.findall(pattern,text)\n",
    "    if matches:\n",
    "        return matches[0].strip()\n",
    "    "
   ]
  },
  {
   "cell_type": "code",
   "execution_count": 73,
   "id": "d6ee4e0e-77ec-4922-9904-5bd7e94f9985",
   "metadata": {},
   "outputs": [
    {
     "data": {
      "text/plain": [
       "'Pretoria, Transvaal, South Africa'"
      ]
     },
     "execution_count": 73,
     "metadata": {},
     "output_type": "execute_result"
    }
   ],
   "source": [
    "get_match(pattern7, text)"
   ]
  },
  {
   "cell_type": "code",
   "execution_count": 77,
   "id": "b984fec4-3e32-45c4-963f-eec2f0b60b17",
   "metadata": {},
   "outputs": [],
   "source": [
    "def get_personal_info(text):\n",
    "    Name = re.findall('Born(.*)',text)\n",
    "    Age = re.findall('age (\\d+)',text)\n",
    "    DoB = re.findall('Born.*\\n(.*)\\(age',text)\n",
    "    Birth_Place = re.findall('\\(age.*\\n(.*)',text)\n",
    "    return {\n",
    "        \"Name\": Name[0].strip(),\n",
    "        \"Age\": Age[0].strip(),\n",
    "        \"DoB\": DoB[0].strip(),\n",
    "        \"Birth_Place\" :Birth_Place[0].strip()\n",
    "    }\n",
    "    \n",
    "    \n",
    "    "
   ]
  },
  {
   "cell_type": "code",
   "execution_count": 78,
   "id": "daeec66f-563f-4636-ab19-b10a86d9ceac",
   "metadata": {},
   "outputs": [
    {
     "data": {
      "text/plain": [
       "{'Name': 'Elon Reeve Musk',\n",
       " 'Age': '50',\n",
       " 'DoB': 'June 28, 1971',\n",
       " 'Birth_Place': 'Pretoria, Transvaal, South Africa'}"
      ]
     },
     "execution_count": 78,
     "metadata": {},
     "output_type": "execute_result"
    }
   ],
   "source": [
    "get_personal_info(text)"
   ]
  },
  {
   "cell_type": "raw",
   "id": "a3c45f11-ae3c-4a0e-992c-dcb5c31d987b",
   "metadata": {},
   "source": []
  },
  {
   "cell_type": "raw",
   "id": "604c541d-4b5f-4051-9956-9384cd2b4433",
   "metadata": {},
   "source": [
    "###Exercise"
   ]
  },
  {
   "cell_type": "raw",
   "id": "03972b9f-88a5-4f01-a8d0-1ecd6c405388",
   "metadata": {},
   "source": [
    "1. Extract all twitter handles from following text. Twitter handle is the text that appears after https://twitter.com/ and is a single word. Also it contains only alpha numeric characters i.e. A-Z a-z , o to 9 and underscore "
   ]
  },
  {
   "cell_type": "code",
   "execution_count": 81,
   "id": "bb334c75-1c0f-4787-8f4c-2698ecdeda62",
   "metadata": {},
   "outputs": [
    {
     "data": {
      "text/plain": [
       "['elonmusk', '', 'teslarati', 'dummy_tesla', 'dummy_2_tesla']"
      ]
     },
     "execution_count": 81,
     "metadata": {},
     "output_type": "execute_result"
    }
   ],
   "source": [
    "text = '''\n",
    "Follow our leader Elon musk on twitter here: https://twitter.com/elonmusk, more information \n",
    "on Tesla's products can be found at https://www.tesla.com/. Also here are leading influencers \n",
    "for tesla related news,\n",
    "https://twitter.com/teslarati\n",
    "https://twitter.com/dummy_tesla\n",
    "https://twitter.com/dummy_2_tesla\n",
    "'''\n",
    "pattern  = 'https.*\\/([A-Za-z0-9_]*)'\n",
    "Twitter_handle = re.findall(pattern,text )\n",
    "Twitter_handle"
   ]
  },
  {
   "cell_type": "raw",
   "id": "88129012-0b1f-4c5d-8878-778ee96ffb7c",
   "metadata": {},
   "source": [
    "2. Extract Concentration Risk Types. It will be a text that appears after \"Concentration Risk:\", In below example, your regex should extract these two strings\n",
    "\n",
    "(1) Credit Risk\n",
    "\n",
    "(2) Supply Rish"
   ]
  },
  {
   "cell_type": "code",
   "execution_count": 83,
   "id": "4d71a468-787a-4c13-ace1-e6106c849876",
   "metadata": {},
   "outputs": [
    {
     "data": {
      "text/plain": [
       "[' Credit Risk', ' Supply Risk']"
      ]
     },
     "execution_count": 83,
     "metadata": {},
     "output_type": "execute_result"
    }
   ],
   "source": [
    "text = '''\n",
    "Concentration of Risk: Credit Risk\n",
    "Financial instruments that potentially subject us to a concentration of credit risk consist of cash, cash equivalents, marketable securities,\n",
    "restricted cash, accounts receivable, convertible note hedges, and interest rate swaps. Our cash balances are primarily invested in money market funds\n",
    "or on deposit at high credit quality financial institutions in the U.S. These deposits are typically in excess of insured limits. As of September 30, 2021\n",
    "and December 31, 2020, no entity represented 10% or more of our total accounts receivable balance. The risk of concentration for our convertible note\n",
    "hedges and interest rate swaps is mitigated by transacting with several highly-rated multinational banks.\n",
    "Concentration of Risk: Supply Risk\n",
    "We are dependent on our suppliers, including single source suppliers, and the inability of these suppliers to deliver necessary components of our\n",
    "products in a timely manner at prices, quality levels and volumes acceptable to us, or our inability to efficiently manage these components from these\n",
    "suppliers, could have a material adverse effect on our business, prospects, financial condition and operating results.\n",
    "'''\n",
    "pattern = 'Concentration of Risk:(.*)' \n",
    "\n",
    "strings = re.findall(pattern, text)\n",
    "strings"
   ]
  },
  {
   "cell_type": "raw",
   "id": "0cfa171e-3e43-493a-abae-d9613b07254d",
   "metadata": {},
   "source": [
    "3. Companies in europe reports their financial numbers of semi annual basis and you can have a document like this. To exatract quarterly and semin annual period you can use a regex as shown below"
   ]
  },
  {
   "cell_type": "code",
   "execution_count": 84,
   "id": "b741cbcb-3da0-49bb-bdd9-8a18010ab05e",
   "metadata": {},
   "outputs": [
    {
     "data": {
      "text/plain": [
       "['2021 Q1', '2021 S1']"
      ]
     },
     "execution_count": 84,
     "metadata": {},
     "output_type": "execute_result"
    }
   ],
   "source": [
    "text = '''\n",
    "Tesla's gross cost of operating lease vehicles in FY2021 Q1 was $4.85 billion.\n",
    "BMW's gross cost of operating vehicles in FY2021 S1 was $8 billion.\n",
    "'''\n",
    "\n",
    "pattern = 'FY(\\d{4} (?:Q[1-4]|S[1-2]))' \n",
    "matches = re.findall(pattern, text)\n",
    "matches"
   ]
  }
 ],
 "metadata": {
  "kernelspec": {
   "display_name": "Python 3 (ipykernel)",
   "language": "python",
   "name": "python3"
  },
  "language_info": {
   "codemirror_mode": {
    "name": "ipython",
    "version": 3
   },
   "file_extension": ".py",
   "mimetype": "text/x-python",
   "name": "python",
   "nbconvert_exporter": "python",
   "pygments_lexer": "ipython3",
   "version": "3.11.5"
  }
 },
 "nbformat": 4,
 "nbformat_minor": 5
}
