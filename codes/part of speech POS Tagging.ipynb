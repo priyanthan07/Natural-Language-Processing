{
 "cells": [
  {
   "cell_type": "code",
   "execution_count": 2,
   "id": "a0af3f12-27e9-485e-a2cf-efb897436a01",
   "metadata": {},
   "outputs": [],
   "source": [
    "import spacy"
   ]
  },
  {
   "cell_type": "code",
   "execution_count": 7,
   "id": "813ecff2-4193-463b-aaef-fed94349ac24",
   "metadata": {},
   "outputs": [
    {
     "name": "stdout",
     "output_type": "stream",
     "text": [
      "Elon  |  PROPN  |  proper noun  |  NNP  |  noun, proper singular\n",
      "flew  |  VERB  |  verb  |  VBD  |  verb, past tense\n",
      "to  |  ADP  |  adposition  |  IN  |  conjunction, subordinating or preposition\n",
      "mars  |  NOUN  |  noun  |  NNS  |  noun, plural\n",
      "yesterday  |  NOUN  |  noun  |  NN  |  noun, singular or mass\n",
      ".  |  PUNCT  |  punctuation  |  .  |  punctuation mark, sentence closer\n",
      "He  |  PRON  |  pronoun  |  PRP  |  pronoun, personal\n",
      "carried  |  VERB  |  verb  |  VBD  |  verb, past tense\n",
      "biryani  |  ADJ  |  adjective  |  JJ  |  adjective (English), other noun-modifier (Chinese)\n",
      "masala  |  NOUN  |  noun  |  NN  |  noun, singular or mass\n",
      "with  |  ADP  |  adposition  |  IN  |  conjunction, subordinating or preposition\n",
      "him  |  PRON  |  pronoun  |  PRP  |  pronoun, personal\n"
     ]
    }
   ],
   "source": [
    "nlp = spacy.load(\"en_core_web_sm\")\n",
    "doc = nlp(\"Elon flew to mars yesterday. He carried biryani masala with him\")\n",
    "\n",
    "for token in doc:\n",
    "    print(token, \" | \", token.pos_, \" | \", spacy.explain(token.pos_), \" | \", token.tag_ ,\" | \", spacy.explain(token.tag_))"
   ]
  },
  {
   "cell_type": "code",
   "execution_count": 8,
   "id": "0f35b48d-3c40-4eb6-813b-95dc3e7a3d65",
   "metadata": {},
   "outputs": [
    {
     "name": "stdout",
     "output_type": "stream",
     "text": [
      "quits | VBZ | verb, 3rd person singular present\n"
     ]
    }
   ],
   "source": [
    "doc = nlp(\"He quits the job\")\n",
    "\n",
    "print(doc[1].text, \"|\", doc[1].tag_, \"|\", spacy.explain(doc[1].tag_))"
   ]
  },
  {
   "cell_type": "code",
   "execution_count": 9,
   "id": "ef1d435e-0522-4b30-b3df-616a2ad0f5e3",
   "metadata": {},
   "outputs": [
    {
     "name": "stdout",
     "output_type": "stream",
     "text": [
      "quit | VBD | verb, past tense\n"
     ]
    }
   ],
   "source": [
    "doc = nlp(\"he quit the job\")\n",
    "\n",
    "print(doc[1].text, \"|\", doc[1].tag_, \"|\", spacy.explain(doc[1].tag_))"
   ]
  },
  {
   "cell_type": "code",
   "execution_count": 13,
   "id": "d8a1b7b4-3a6e-4973-93cf-ba44c022d8d8",
   "metadata": {},
   "outputs": [],
   "source": [
    "earnings_text=\"\"\"Microsoft Corp. today announced the following results for the quarter ended December 31, 2021, as compared to the corresponding period of last fiscal year:\n",
    "\n",
    "·         Revenue was $51.7 billion and increased 20%\n",
    "·         Operating income was $22.2 billion and increased 24%\n",
    "·         Net income was $18.8 billion and increased 21%\n",
    "·         Diluted earnings per share was $2.48 and increased 22%\n",
    "“Digital technology is the most malleable resource at the world’s disposal to overcome constraints and reimagine everyday work and life,” said Satya Nadella, chairman and chief executive officer of Microsoft. “As tech as a percentage of global GDP continues to increase, we are innovating and investing across diverse and growing markets, with a common underlying technology stack and an operating model that reinforces a common strategy, culture, and sense of purpose.”\n",
    "“Solid commercial execution, represented by strong bookings growth driven by long-term Azure commitments, increased Microsoft \"\n",
    "\"\"\"\n"
   ]
  },
  {
   "cell_type": "code",
   "execution_count": 20,
   "id": "0c8a3b14-7fb3-479e-bae0-85b7abd1245a",
   "metadata": {
    "scrolled": true
   },
   "outputs": [
    {
     "data": {
      "text/plain": [
       "[Microsoft,\n",
       " Corp.,\n",
       " today,\n",
       " announced,\n",
       " the,\n",
       " following,\n",
       " results,\n",
       " for,\n",
       " the,\n",
       " quarter,\n",
       " ended,\n",
       " December,\n",
       " 31,\n",
       " 2021,\n",
       " as,\n",
       " compared,\n",
       " to,\n",
       " the,\n",
       " corresponding,\n",
       " period,\n",
       " of,\n",
       " last,\n",
       " fiscal,\n",
       " year,\n",
       " Revenue,\n",
       " was,\n",
       " $,\n",
       " 51.7,\n",
       " billion,\n",
       " and,\n",
       " increased,\n",
       " 20,\n",
       " %,\n",
       " Operating,\n",
       " income,\n",
       " was,\n",
       " $,\n",
       " 22.2,\n",
       " billion,\n",
       " and,\n",
       " increased,\n",
       " 24,\n",
       " %,\n",
       " Net,\n",
       " income,\n",
       " was,\n",
       " $,\n",
       " 18.8,\n",
       " billion,\n",
       " and,\n",
       " increased,\n",
       " 21,\n",
       " %,\n",
       " Diluted,\n",
       " earnings,\n",
       " per,\n",
       " share,\n",
       " was,\n",
       " $,\n",
       " 2.48,\n",
       " and,\n",
       " increased,\n",
       " 22,\n",
       " %,\n",
       " Digital,\n",
       " technology,\n",
       " is,\n",
       " the,\n",
       " most,\n",
       " malleable,\n",
       " resource,\n",
       " at,\n",
       " the,\n",
       " world,\n",
       " ’s,\n",
       " disposal,\n",
       " to,\n",
       " overcome,\n",
       " constraints,\n",
       " and,\n",
       " reimagine,\n",
       " everyday,\n",
       " work,\n",
       " and,\n",
       " life,\n",
       " said,\n",
       " Satya,\n",
       " Nadella,\n",
       " chairman,\n",
       " and,\n",
       " chief,\n",
       " executive,\n",
       " officer,\n",
       " of,\n",
       " Microsoft,\n",
       " As,\n",
       " tech,\n",
       " as,\n",
       " a,\n",
       " percentage,\n",
       " of,\n",
       " global,\n",
       " GDP,\n",
       " continues,\n",
       " to,\n",
       " increase,\n",
       " we,\n",
       " are,\n",
       " innovating,\n",
       " and,\n",
       " investing,\n",
       " across,\n",
       " diverse,\n",
       " and,\n",
       " growing,\n",
       " markets,\n",
       " with,\n",
       " a,\n",
       " common,\n",
       " underlying,\n",
       " technology,\n",
       " stack,\n",
       " and,\n",
       " an,\n",
       " operating,\n",
       " model,\n",
       " that,\n",
       " reinforces,\n",
       " a,\n",
       " common,\n",
       " strategy,\n",
       " culture,\n",
       " and,\n",
       " sense,\n",
       " of,\n",
       " purpose,\n",
       " Solid,\n",
       " commercial,\n",
       " execution,\n",
       " represented,\n",
       " by,\n",
       " strong,\n",
       " bookings,\n",
       " growth,\n",
       " driven,\n",
       " by,\n",
       " long,\n",
       " term,\n",
       " Azure,\n",
       " commitments,\n",
       " increased,\n",
       " Microsoft]"
      ]
     },
     "execution_count": 20,
     "metadata": {},
     "output_type": "execute_result"
    }
   ],
   "source": [
    "doc = nlp(earnings_text)\n",
    "\n",
    "filtered_tokens = []\n",
    "\n",
    "for token in doc:\n",
    "    if token.pos_ not in [\"SPACE\", \"X\", \"PUNCT\"]:\n",
    "        filtered_tokens.append(token)\n",
    "        \n",
    "filtered_tokens\n"
   ]
  },
  {
   "cell_type": "code",
   "execution_count": 21,
   "id": "e10874ed-f42c-42c6-97da-165ce0b0132f",
   "metadata": {
    "scrolled": true
   },
   "outputs": [
    {
     "data": {
      "text/plain": [
       "{96: 9,\n",
       " 92: 39,\n",
       " 100: 23,\n",
       " 90: 9,\n",
       " 85: 13,\n",
       " 93: 13,\n",
       " 97: 24,\n",
       " 98: 1,\n",
       " 84: 17,\n",
       " 103: 11,\n",
       " 87: 6,\n",
       " 99: 4,\n",
       " 89: 11,\n",
       " 86: 2,\n",
       " 94: 3,\n",
       " 95: 2}"
      ]
     },
     "execution_count": 21,
     "metadata": {},
     "output_type": "execute_result"
    }
   ],
   "source": [
    "count = doc.count_by(spacy.attrs.POS)\n",
    "count         # example: 96: 9, ==> propernoun : 9"
   ]
  },
  {
   "cell_type": "code",
   "execution_count": 22,
   "id": "c59872bf-68bd-4bdf-88b9-14fd15539ded",
   "metadata": {
    "scrolled": true
   },
   "outputs": [
    {
     "name": "stdout",
     "output_type": "stream",
     "text": [
      "PROPN  |  9\n",
      "NOUN  |  39\n",
      "VERB  |  23\n",
      "DET  |  9\n",
      "ADP  |  13\n",
      "NUM  |  13\n",
      "PUNCT  |  24\n",
      "SCONJ  |  1\n",
      "ADJ  |  17\n",
      "SPACE  |  11\n",
      "AUX  |  6\n",
      "SYM  |  4\n",
      "CCONJ  |  11\n",
      "ADV  |  2\n",
      "PART  |  3\n",
      "PRON  |  2\n"
     ]
    }
   ],
   "source": [
    "for k,v in count.items():\n",
    "    print(doc.vocab[k].text, \" | \", v)"
   ]
  },
  {
   "cell_type": "code",
   "execution_count": null,
   "id": "94a140a8-3c15-4f31-a5ea-9d2ba2b459aa",
   "metadata": {},
   "outputs": [],
   "source": [
    "====================================== Exercise ============================="
   ]
  },
  {
   "cell_type": "code",
   "execution_count": 25,
   "id": "cd2dc19e-3682-44cb-bef3-8d189d9993ba",
   "metadata": {},
   "outputs": [
    {
     "data": {
      "text/plain": [
       "'Inflation rose again in April, continuing a climb that has pushed consumers to the brink and is threatening the economic expansion, the Bureau of Labor Statistics reported Wednesday.\\n\\nThe consumer price index, a broad-based measure of prices for goods and services, increased 8.3% from a year ago, higher than the Dow Jones estimate for an 8.1% gain. That represented a slight ease from Marchâ€™s peak but was still close to the highest level since the summer of 1982.\\n\\nRemoving volatile food and ene'"
      ]
     },
     "execution_count": 25,
     "metadata": {},
     "output_type": "execute_result"
    }
   ],
   "source": [
    "with open(\"news_story.txt\",'r') as f:\n",
    "    text = f.read()\n",
    "\n",
    "text[:500]"
   ]
  },
  {
   "cell_type": "code",
   "execution_count": 30,
   "id": "0899a749-02c6-402f-ba82-3b30943fbd94",
   "metadata": {},
   "outputs": [
    {
     "data": {
      "text/plain": [
       "([Inflation,\n",
       "  climb,\n",
       "  consumers,\n",
       "  brink,\n",
       "  expansion,\n",
       "  consumer,\n",
       "  price,\n",
       "  index,\n",
       "  measure,\n",
       "  prices,\n",
       "  goods,\n",
       "  services,\n",
       "  %,\n",
       "  year,\n",
       "  estimate,\n",
       "  %,\n",
       "  gain,\n",
       "  ease,\n",
       "  Marchâ€,\n",
       "  ™,\n",
       "  peak,\n",
       "  level,\n",
       "  summer,\n",
       "  food,\n",
       "  energy,\n",
       "  prices,\n",
       "  core,\n",
       "  %,\n",
       "  expectations,\n",
       "  %,\n",
       "  gain,\n",
       "  hopes,\n",
       "  inflation,\n",
       "  month,\n",
       "  month,\n",
       "  gains,\n",
       "  expectations,\n",
       "  %,\n",
       "  headline,\n",
       "  %,\n",
       "  estimate,\n",
       "  %,\n",
       "  increase,\n",
       "  core,\n",
       "  outlook,\n",
       "  %,\n",
       "  gain,\n",
       "  price,\n",
       "  gains,\n",
       "  workers,\n",
       "  ground,\n",
       "  wages,\n",
       "  inflation,\n",
       "  %,\n",
       "  month,\n",
       "  increase,\n",
       "  %,\n",
       "  earnings,\n",
       "  year,\n",
       "  earnings,\n",
       "  %,\n",
       "  earnings,\n",
       "  %,\n",
       "  Inflation,\n",
       "  threat,\n",
       "  recovery,\n",
       "  pandemic,\n",
       "  economy,\n",
       "  stage,\n",
       "  year,\n",
       "  growth,\n",
       "  level,\n",
       "  prices,\n",
       "  pump,\n",
       "  grocery,\n",
       "  stores,\n",
       "  problem,\n",
       "  inflation,\n",
       "  areas,\n",
       "  housing,\n",
       "  auto,\n",
       "  sales,\n",
       "  host,\n",
       "  areas,\n",
       "  officials,\n",
       "  problem,\n",
       "  interest,\n",
       "  rate,\n",
       "  hikes,\n",
       "  year,\n",
       "  pledges,\n",
       "  inflation,\n",
       "  %,\n",
       "  goal,\n",
       "  ™,\n",
       "  data,\n",
       "  job,\n",
       "  Credits],\n",
       " [8.3,\n",
       "  8.1,\n",
       "  1982,\n",
       "  6.2,\n",
       "  6,\n",
       "  â€,\n",
       "  0.3,\n",
       "  0.2,\n",
       "  0.6,\n",
       "  0.4,\n",
       "  0.1,\n",
       "  0.3,\n",
       "  2.6,\n",
       "  5.5,\n",
       "  2021,\n",
       "  1984,\n",
       "  one,\n",
       "  two,\n",
       "  two,\n",
       "  2])"
      ]
     },
     "execution_count": 30,
     "metadata": {},
     "output_type": "execute_result"
    }
   ],
   "source": [
    "doc =nlp(text)\n",
    "Noun = []\n",
    "Num  = []\n",
    "\n",
    "for token in doc:\n",
    "    if  token.pos_== \"NOUN\":\n",
    "        Noun.append(token)\n",
    "    elif token.pos_== \"NUM\":\n",
    "        Num.append(token)\n",
    "\n",
    "Noun , Num"
   ]
  },
  {
   "cell_type": "code",
   "execution_count": 33,
   "id": "7cf289bd-7b7b-40e7-83aa-b92826164b04",
   "metadata": {},
   "outputs": [
    {
     "data": {
      "text/plain": [
       "{92: 98,\n",
       " 100: 27,\n",
       " 86: 15,\n",
       " 85: 39,\n",
       " 96: 17,\n",
       " 97: 32,\n",
       " 90: 34,\n",
       " 95: 4,\n",
       " 87: 13,\n",
       " 89: 10,\n",
       " 84: 23,\n",
       " 103: 7,\n",
       " 93: 20,\n",
       " 94: 4,\n",
       " 98: 8,\n",
       " 101: 1}"
      ]
     },
     "execution_count": 33,
     "metadata": {},
     "output_type": "execute_result"
    }
   ],
   "source": [
    "count =doc.count_by(spacy.attrs.POS)\n",
    "count"
   ]
  },
  {
   "cell_type": "code",
   "execution_count": 36,
   "id": "45a98315-150a-4088-bc29-fe6910cd15c7",
   "metadata": {},
   "outputs": [
    {
     "name": "stdout",
     "output_type": "stream",
     "text": [
      "NOUN  |  98\n",
      "VERB  |  27\n",
      "ADV  |  15\n",
      "ADP  |  39\n",
      "PROPN  |  17\n",
      "PUNCT  |  32\n",
      "DET  |  34\n",
      "PRON  |  4\n",
      "AUX  |  13\n",
      "CCONJ  |  10\n",
      "ADJ  |  23\n",
      "SPACE  |  7\n",
      "NUM  |  20\n",
      "PART  |  4\n",
      "SCONJ  |  8\n",
      "X  |  1\n"
     ]
    }
   ],
   "source": [
    "for k,v in count.items():\n",
    "    print(doc.vocab[k].text, \" | \", v)"
   ]
  }
 ],
 "metadata": {
  "kernelspec": {
   "display_name": "Python 3 (ipykernel)",
   "language": "python",
   "name": "python3"
  },
  "language_info": {
   "codemirror_mode": {
    "name": "ipython",
    "version": 3
   },
   "file_extension": ".py",
   "mimetype": "text/x-python",
   "name": "python",
   "nbconvert_exporter": "python",
   "pygments_lexer": "ipython3",
   "version": "3.11.5"
  }
 },
 "nbformat": 4,
 "nbformat_minor": 5
}
