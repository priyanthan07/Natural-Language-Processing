{
 "cells": [
  {
   "cell_type": "code",
   "execution_count": null,
   "id": "8c8945d5-5e97-4eec-ae74-80931e39ca2d",
   "metadata": {},
   "outputs": [],
   "source": [
    "# word embedding ====> word2vec  , Glove,  FastText"
   ]
  },
  {
   "cell_type": "code",
   "execution_count": 3,
   "id": "42a3ff03-d00a-43c4-a0e0-c6bd9187f330",
   "metadata": {},
   "outputs": [],
   "source": [
    "# fastText doesn't have out of vector problem"
   ]
  },
  {
   "cell_type": "raw",
   "id": "f914228d-5e3c-4dd5-b297-b1cc34d3b5bd",
   "metadata": {},
   "source": [
    "import fasttext\n",
    "\n",
    "model_en = fasttext.load_model('C:\\\\Code\\\\nlp-tutorials\\\\downloads\\\\cc.en.300.bin')\n",
    "\n",
    "model_en.get_nearest_neighbors('good')\n",
    "\n",
    "=== > [(0.7517593502998352, 'bad'),\n",
    "         (0.7426098585128784, 'great'),\n",
    "         (0.7299689054489136, 'decent'),\n",
    "         (0.7123614549636841, 'nice'),\n",
    "         (0.6796907186508179, 'Good'),\n",
    "         (0.6737031936645508, 'excellent'),\n",
    "         (0.669592022895813, 'goood'),\n",
    "         (0.6602178812026978, 'ggod'),\n",
    "         (0.6479219794273376, 'semi-good'),\n",
    "         (0.6417751908302307, 'good.Good')]"
   ]
  },
  {
   "cell_type": "raw",
   "id": "4bb6df81-7cee-4469-88f2-ae13acf9b10a",
   "metadata": {},
   "source": [
    "model_en.get_word_vector(\"good\").shape\n",
    "\n",
    "==> (300,)"
   ]
  },
  {
   "cell_type": "raw",
   "id": "a35763fc-7521-4c46-b175-abcf6b0ebec1",
   "metadata": {},
   "source": [
    "model_en.get_analogies(\"berlin\",\"germany\",\"france\")\n",
    "\n",
    "==>  [(0.7303731441497803, 'paris'),\n",
    "         (0.6408537030220032, 'france.'),\n",
    "         (0.6393311023712158, 'avignon'),\n",
    "         (0.6316676139831543, 'paris.'),\n",
    "         (0.5895596742630005, 'montpellier'),\n",
    "         (0.5884554386138916, 'rennes'),\n",
    "         (0.5850598812103271, 'grenoble'),\n",
    "         (0.5832924246788025, 'london'),\n",
    "         (0.5806092619895935, 'strasbourg'),\n",
    "         (0.574320375919342, 'Paris.')]"
   ]
  },
  {
   "cell_type": "raw",
   "id": "68ea38e3-78e5-4787-b3e2-350cae042933",
   "metadata": {},
   "source": [
    "model_en.get_analogies(\"berlin\",\"germany\",\"india\")\n",
    "\n",
    "==> [(0.7303731441497803, 'paris'),\n",
    "         (0.6408537030220032, 'france.'),\n",
    "         (0.6393311023712158, 'avignon'),\n",
    "         (0.6316676139831543, 'paris.'),\n",
    "         (0.5895596742630005, 'montpellier'),\n",
    "         (0.5884554386138916, 'rennes'),\n",
    "         (0.5850598812103271, 'grenoble'),\n",
    "         (0.5832924246788025, 'london'),\n",
    "         (0.5806092619895935, 'strasbourg'),\n",
    "         (0.574320375919342, 'Paris.')]"
   ]
  },
  {
   "cell_type": "raw",
   "id": "9a40e4be-268f-413b-9aea-12b5fbd6116c",
   "metadata": {},
   "source": [
    "model_en.get_analogies(\"driving\",\"car\",\"phone\")\n",
    "\n",
    "==> [(0.610385537147522, 'texting'),\n",
    " (0.5203558802604675, 'phone-calling'),\n",
    " (0.5153835415840149, 'cellphone'),\n",
    " (0.5135326981544495, 'cell-phone'),\n",
    " (0.5117910504341125, 'dialing'),\n",
    " (0.5087355971336365, 'texing'),\n",
    " (0.5079342722892761, 'text-messaging'),\n",
    " (0.500900387763977, 'txting'),\n",
    " (0.4960441589355469, 'texting.'),\n",
    " (0.4951859414577484, 'Texting')]"
   ]
  },
  {
   "cell_type": "raw",
   "id": "c6624acb-1000-4f02-8201-d94618b7a8e5",
   "metadata": {},
   "source": [
    "model_en.get_analogies(\"driving\",\"car\",\"book\")\n",
    "[(0.5302355885505676, 'reading'),\n",
    " (0.517051637172699, 'book.I'),\n",
    " (0.5137901306152344, 'book--and'),\n",
    " (0.5090512633323669, 'book.That'),\n",
    " (0.5005884766578674, 'book--it'),\n",
    " (0.49395182728767395, 'book--I'),\n",
    " (0.49293914437294006, 're-reading'),\n",
    " (0.49156999588012695, 'book.This'),\n",
    " (0.49107635021209717, 'reading--and'),\n",
    " (0.48960915207862854, 'book--the')]"
   ]
  },
  {
   "cell_type": "raw",
   "id": "af3b9842-9609-4787-a65a-f780cdaca8bb",
   "metadata": {},
   "source": [
    "model_en.get_nearest_neighbors(\"chutney\")\n",
    "==> [(0.8078702092170715, 'chutneys'),\n",
    " (0.7138292789459229, 'thokku'),\n",
    " (0.701572060585022, 'Chutney'),\n",
    " (0.6875490546226501, 'achaar'),\n",
    " (0.684525728225708, 'piccalilli'),\n",
    " (0.6737173199653625, 'raita'),\n",
    " (0.6715506911277771, 'chatni'),\n",
    " (0.6610829830169678, 'chutney.'),\n",
    " (0.6505922675132751, 'gojju'),\n",
    " (0.6398508548736572, 'kasundi')]"
   ]
  },
  {
   "cell_type": "markdown",
   "id": "c564df74-f0ef-4c1a-b20f-51b0249f8a6c",
   "metadata": {},
   "source": [
    "Custom train word embeddings on indian food receipes "
   ]
  },
  {
   "cell_type": "code",
   "execution_count": 6,
   "id": "0492dc73-21fa-471b-9440-3a41afcf6bdd",
   "metadata": {},
   "outputs": [
    {
     "name": "stdout",
     "output_type": "stream",
     "text": [
      "(5938, 9)\n"
     ]
    },
    {
     "data": {
      "text/html": [
       "<div>\n",
       "<style scoped>\n",
       "    .dataframe tbody tr th:only-of-type {\n",
       "        vertical-align: middle;\n",
       "    }\n",
       "\n",
       "    .dataframe tbody tr th {\n",
       "        vertical-align: top;\n",
       "    }\n",
       "\n",
       "    .dataframe thead th {\n",
       "        text-align: right;\n",
       "    }\n",
       "</style>\n",
       "<table border=\"1\" class=\"dataframe\">\n",
       "  <thead>\n",
       "    <tr style=\"text-align: right;\">\n",
       "      <th></th>\n",
       "      <th>TranslatedRecipeName</th>\n",
       "      <th>TranslatedIngredients</th>\n",
       "      <th>TotalTimeInMins</th>\n",
       "      <th>Cuisine</th>\n",
       "      <th>TranslatedInstructions</th>\n",
       "      <th>URL</th>\n",
       "      <th>Cleaned-Ingredients</th>\n",
       "      <th>image-url</th>\n",
       "      <th>Ingredient-count</th>\n",
       "    </tr>\n",
       "  </thead>\n",
       "  <tbody>\n",
       "    <tr>\n",
       "      <th>0</th>\n",
       "      <td>Masala Karela Recipe</td>\n",
       "      <td>1 tablespoon Red Chilli powder,3 tablespoon Gr...</td>\n",
       "      <td>45</td>\n",
       "      <td>Indian</td>\n",
       "      <td>To begin making the Masala Karela Recipe,de-se...</td>\n",
       "      <td>https://www.archanaskitchen.com/masala-karela-...</td>\n",
       "      <td>salt,amchur (dry mango powder),karela (bitter ...</td>\n",
       "      <td>https://www.archanaskitchen.com/images/archana...</td>\n",
       "      <td>10</td>\n",
       "    </tr>\n",
       "    <tr>\n",
       "      <th>1</th>\n",
       "      <td>Spicy Tomato Rice (Recipe)</td>\n",
       "      <td>2 teaspoon cashew - or peanuts, 1/2 Teaspoon ...</td>\n",
       "      <td>15</td>\n",
       "      <td>South Indian Recipes</td>\n",
       "      <td>To make tomato puliogere, first cut the tomato...</td>\n",
       "      <td>https://www.archanaskitchen.com/spicy-tomato-r...</td>\n",
       "      <td>tomato,salt,chickpea lentils,green chilli,rice...</td>\n",
       "      <td>https://www.archanaskitchen.com/images/archana...</td>\n",
       "      <td>12</td>\n",
       "    </tr>\n",
       "    <tr>\n",
       "      <th>2</th>\n",
       "      <td>Ragi Semiya Upma Recipe - Ragi Millet Vermicel...</td>\n",
       "      <td>1 Onion - sliced,1 teaspoon White Urad Dal (Sp...</td>\n",
       "      <td>50</td>\n",
       "      <td>South Indian Recipes</td>\n",
       "      <td>To begin making the Ragi Vermicelli Recipe, fi...</td>\n",
       "      <td>https://www.archanaskitchen.com/ragi-vermicell...</td>\n",
       "      <td>salt,rice vermicelli noodles (thin),asafoetida...</td>\n",
       "      <td>https://www.archanaskitchen.com/images/archana...</td>\n",
       "      <td>12</td>\n",
       "    </tr>\n",
       "  </tbody>\n",
       "</table>\n",
       "</div>"
      ],
      "text/plain": [
       "                                TranslatedRecipeName  \\\n",
       "0                               Masala Karela Recipe   \n",
       "1                         Spicy Tomato Rice (Recipe)   \n",
       "2  Ragi Semiya Upma Recipe - Ragi Millet Vermicel...   \n",
       "\n",
       "                               TranslatedIngredients  TotalTimeInMins  \\\n",
       "0  1 tablespoon Red Chilli powder,3 tablespoon Gr...               45   \n",
       "1   2 teaspoon cashew - or peanuts, 1/2 Teaspoon ...               15   \n",
       "2  1 Onion - sliced,1 teaspoon White Urad Dal (Sp...               50   \n",
       "\n",
       "                Cuisine                             TranslatedInstructions  \\\n",
       "0                Indian  To begin making the Masala Karela Recipe,de-se...   \n",
       "1  South Indian Recipes  To make tomato puliogere, first cut the tomato...   \n",
       "2  South Indian Recipes  To begin making the Ragi Vermicelli Recipe, fi...   \n",
       "\n",
       "                                                 URL  \\\n",
       "0  https://www.archanaskitchen.com/masala-karela-...   \n",
       "1  https://www.archanaskitchen.com/spicy-tomato-r...   \n",
       "2  https://www.archanaskitchen.com/ragi-vermicell...   \n",
       "\n",
       "                                 Cleaned-Ingredients  \\\n",
       "0  salt,amchur (dry mango powder),karela (bitter ...   \n",
       "1  tomato,salt,chickpea lentils,green chilli,rice...   \n",
       "2  salt,rice vermicelli noodles (thin),asafoetida...   \n",
       "\n",
       "                                           image-url  Ingredient-count  \n",
       "0  https://www.archanaskitchen.com/images/archana...                10  \n",
       "1  https://www.archanaskitchen.com/images/archana...                12  \n",
       "2  https://www.archanaskitchen.com/images/archana...                12  "
      ]
     },
     "execution_count": 6,
     "metadata": {},
     "output_type": "execute_result"
    }
   ],
   "source": [
    "import pandas as pd\n",
    "\n",
    "df = pd.read_csv(\"Cleaned_Indian_Food_Dataset.csv\")\n",
    "print(df.shape)\n",
    "df.head(3)"
   ]
  },
  {
   "cell_type": "code",
   "execution_count": 9,
   "id": "763207fc-fac1-4497-98db-8e8543cb4755",
   "metadata": {},
   "outputs": [
    {
     "data": {
      "text/plain": [
       "'To begin making the Masala Karela Recipe,de-seed the karela and slice.\\nDo not remove the skin as the skin has all the nutrients.\\nAdd the karela to the pressure cooker with 3 tablespoon of water, salt and turmeric powder and pressure cook for three whistles.\\nRelease the pressure immediately and open the lids.\\nKeep aside.Heat oil in a heavy bottomed pan or a kadhai.\\nAdd cumin seeds and let it sizzle.Once the cumin seeds have sizzled, add onions and saute them till it turns golden brown in color.Add the karela, red chilli powder, amchur powder, coriander powder and besan.\\nStir to combine the masalas into the karela.Drizzle a little extra oil on the top and mix again.\\nCover the pan and simmer Masala Karela stirring occasionally until everything comes together well.\\nTurn off the heat.Transfer Masala Karela into a serving bowl and serve.Serve Masala Karela along with Panchmel Dal and Phulka for a weekday meal with your family.\\n'"
      ]
     },
     "execution_count": 9,
     "metadata": {},
     "output_type": "execute_result"
    }
   ],
   "source": [
    "df[\"TranslatedInstructions\"][0]"
   ]
  },
  {
   "cell_type": "code",
   "execution_count": 12,
   "id": "1e5bca1d-9981-405a-808a-81600df226b0",
   "metadata": {},
   "outputs": [
    {
     "data": {
      "text/plain": [
       "' To begin making the Masala Karela Recipe de seed the karela and slice \\nDo not remove the skin as the skin has all the nutrients \\nAdd the karela to the pressure cooker with 3 tablespoon of water  salt and turmeric powder and pressure cook for three whistles \\nRelease the pressure immediately and open the lids \\nKeep aside Heat oil in a heavy bottomed pan or a kadhai \\nAdd cumin seeds and let it sizzle Once the cumin seeds have sizzled  add onions and saute them till it turns golden brown in color Add the karela  red chilli powder  amchur powder  coriander powder and besan \\nStir to combine the masalas into the karela Drizzle a little extra oil on the top and mix again \\nCover the pan and simmer Masala Karela stirring occasionally until everything comes together well \\nTurn off the heat Transfer Masala Karela into a serving bowl and serve Serve Masala Karela along with Panchmel Dal and Phulka for a weekday meal with your family \\n '"
      ]
     },
     "execution_count": 12,
     "metadata": {},
     "output_type": "execute_result"
    }
   ],
   "source": [
    "import re\n",
    "\n",
    "\n",
    "text = \"'To begin making the Masala Karela Recipe,de-seed the karela and slice.\\nDo not remove the skin as the skin has all the nutrients.\\nAdd the karela to the pressure cooker with 3 tablespoon of water, salt and turmeric powder and pressure cook for three whistles.\\nRelease the pressure immediately and open the lids.\\nKeep aside.Heat oil in a heavy bottomed pan or a kadhai.\\nAdd cumin seeds and let it sizzle.Once the cumin seeds have sizzled, add onions and saute them till it turns golden brown in color.Add the karela, red chilli powder, amchur powder, coriander powder and besan.\\nStir to combine the masalas into the karela.Drizzle a little extra oil on the top and mix again.\\nCover the pan and simmer Masala Karela stirring occasionally until everything comes together well.\\nTurn off the heat.Transfer Masala Karela into a serving bowl and serve.Serve Masala Karela along with Panchmel Dal and Phulka for a weekday meal with your family.\\n'\"\n",
    "\n",
    "\n",
    "re.sub(r'[^\\w\\s]',' ',text, flags = re.MULTILINE )"
   ]
  },
  {
   "cell_type": "code",
   "execution_count": 17,
   "id": "29001228-ea37-4010-9560-938d30a583ae",
   "metadata": {},
   "outputs": [
    {
     "data": {
      "text/plain": [
       "\"'To begin making the Masala Karela Recipe,de-seed the karela and slice. Do not remove the skin as the skin has all the nutrients. Add the karela to the pressure cooker with 3 tablespoon of water, salt and turmeric powder and pressure cook for three whistles. Release the pressure immediately and open the lids. Keep aside.Heat oil in a heavy bottomed pan or a kadhai. Add cumin seeds and let it sizzle.Once the cumin seeds have sizzled, add onions and saute them till it turns golden brown in color.Add the karela, red chilli powder, amchur powder, coriander powder and besan. Stir to combine the masalas into the karela.Drizzle a little extra oil on the top and mix again. Cover the pan and simmer Masala Karela stirring occasionally until everything comes together well. Turn off the heat.Transfer Masala Karela into a serving bowl and serve.Serve Masala Karela along with Panchmel Dal and Phulka for a weekday meal with your family. '\""
      ]
     },
     "execution_count": 17,
     "metadata": {},
     "output_type": "execute_result"
    }
   ],
   "source": [
    "re.sub(r'[ \\n]+',' ',text, flags = re.MULTILINE )"
   ]
  },
  {
   "cell_type": "code",
   "execution_count": 28,
   "id": "c579e19f-b20d-47b5-8ef7-4f013f52b4d0",
   "metadata": {},
   "outputs": [],
   "source": [
    "def preproccess(text):\n",
    "    text = re.sub(r'[^\\w\\s]',\" \",text)\n",
    "    text = re.sub(r'[ \\n]+',\" \",text)\n",
    "\n",
    "    return text.strip().lower()"
   ]
  },
  {
   "cell_type": "code",
   "execution_count": 29,
   "id": "1b54b6b1-ac8b-4e3f-8f66-abfb9cf943ae",
   "metadata": {},
   "outputs": [
    {
     "data": {
      "text/plain": [
       "'to begin making the masala karela recipe de seed the karela and slice do not remove the skin as the skin has all the nutrients add the karela to the pressure cooker with 3 tablespoon of water salt and turmeric powder and pressure cook for three whistles release the pressure immediately and open the lids keep aside heat oil in a heavy bottomed pan or a kadhai add cumin seeds and let it sizzle once the cumin seeds have sizzled add onions and saute them till it turns golden brown in color add the karela red chilli powder amchur powder coriander powder and besan stir to combine the masalas into the karela drizzle a little extra oil on the top and mix again cover the pan and simmer masala karela stirring occasionally until everything comes together well turn off the heat transfer masala karela into a serving bowl and serve serve masala karela along with panchmel dal and phulka for a weekday meal with your family'"
      ]
     },
     "execution_count": 29,
     "metadata": {},
     "output_type": "execute_result"
    }
   ],
   "source": [
    "preproccess(text)"
   ]
  },
  {
   "cell_type": "code",
   "execution_count": 22,
   "id": "f3543bbe-96bb-4c3d-8ba1-97740662bf74",
   "metadata": {},
   "outputs": [],
   "source": [
    "df[\"TranslatedInstructions\"] = df.TranslatedInstructions.map(preproccess)"
   ]
  },
  {
   "cell_type": "code",
   "execution_count": 23,
   "id": "50e680d6-1f6f-4d57-bc8b-2146b5706fd8",
   "metadata": {},
   "outputs": [
    {
     "data": {
      "text/html": [
       "<div>\n",
       "<style scoped>\n",
       "    .dataframe tbody tr th:only-of-type {\n",
       "        vertical-align: middle;\n",
       "    }\n",
       "\n",
       "    .dataframe tbody tr th {\n",
       "        vertical-align: top;\n",
       "    }\n",
       "\n",
       "    .dataframe thead th {\n",
       "        text-align: right;\n",
       "    }\n",
       "</style>\n",
       "<table border=\"1\" class=\"dataframe\">\n",
       "  <thead>\n",
       "    <tr style=\"text-align: right;\">\n",
       "      <th></th>\n",
       "      <th>TranslatedRecipeName</th>\n",
       "      <th>TranslatedIngredients</th>\n",
       "      <th>TotalTimeInMins</th>\n",
       "      <th>Cuisine</th>\n",
       "      <th>TranslatedInstructions</th>\n",
       "      <th>URL</th>\n",
       "      <th>Cleaned-Ingredients</th>\n",
       "      <th>image-url</th>\n",
       "      <th>Ingredient-count</th>\n",
       "    </tr>\n",
       "  </thead>\n",
       "  <tbody>\n",
       "    <tr>\n",
       "      <th>0</th>\n",
       "      <td>Masala Karela Recipe</td>\n",
       "      <td>1 tablespoon Red Chilli powder,3 tablespoon Gr...</td>\n",
       "      <td>45</td>\n",
       "      <td>Indian</td>\n",
       "      <td>to begin making the masala karela recipe de se...</td>\n",
       "      <td>https://www.archanaskitchen.com/masala-karela-...</td>\n",
       "      <td>salt,amchur (dry mango powder),karela (bitter ...</td>\n",
       "      <td>https://www.archanaskitchen.com/images/archana...</td>\n",
       "      <td>10</td>\n",
       "    </tr>\n",
       "    <tr>\n",
       "      <th>1</th>\n",
       "      <td>Spicy Tomato Rice (Recipe)</td>\n",
       "      <td>2 teaspoon cashew - or peanuts, 1/2 Teaspoon ...</td>\n",
       "      <td>15</td>\n",
       "      <td>South Indian Recipes</td>\n",
       "      <td>to make tomato puliogere  first cut the tomato...</td>\n",
       "      <td>https://www.archanaskitchen.com/spicy-tomato-r...</td>\n",
       "      <td>tomato,salt,chickpea lentils,green chilli,rice...</td>\n",
       "      <td>https://www.archanaskitchen.com/images/archana...</td>\n",
       "      <td>12</td>\n",
       "    </tr>\n",
       "    <tr>\n",
       "      <th>2</th>\n",
       "      <td>Ragi Semiya Upma Recipe - Ragi Millet Vermicel...</td>\n",
       "      <td>1 Onion - sliced,1 teaspoon White Urad Dal (Sp...</td>\n",
       "      <td>50</td>\n",
       "      <td>South Indian Recipes</td>\n",
       "      <td>to begin making the ragi vermicelli recipe  fi...</td>\n",
       "      <td>https://www.archanaskitchen.com/ragi-vermicell...</td>\n",
       "      <td>salt,rice vermicelli noodles (thin),asafoetida...</td>\n",
       "      <td>https://www.archanaskitchen.com/images/archana...</td>\n",
       "      <td>12</td>\n",
       "    </tr>\n",
       "    <tr>\n",
       "      <th>3</th>\n",
       "      <td>Gongura Chicken Curry Recipe - Andhra Style Go...</td>\n",
       "      <td>1/2 teaspoon Turmeric powder (Haldi),1 tablesp...</td>\n",
       "      <td>45</td>\n",
       "      <td>Andhra</td>\n",
       "      <td>to begin making gongura chicken curry recipe f...</td>\n",
       "      <td>https://www.archanaskitchen.com/gongura-chicke...</td>\n",
       "      <td>tomato,salt,ginger,sorrel leaves (gongura),fen...</td>\n",
       "      <td>https://www.archanaskitchen.com/images/archana...</td>\n",
       "      <td>15</td>\n",
       "    </tr>\n",
       "    <tr>\n",
       "      <th>4</th>\n",
       "      <td>Andhra Style Alam Pachadi Recipe - Adrak Chutn...</td>\n",
       "      <td>oil - as per use, 1 tablespoon coriander seed...</td>\n",
       "      <td>30</td>\n",
       "      <td>Andhra</td>\n",
       "      <td>to make andhra style alam pachadi  first heat ...</td>\n",
       "      <td>https://www.archanaskitchen.com/andhra-style-a...</td>\n",
       "      <td>tomato,salt,ginger,red chillies,curry,asafoeti...</td>\n",
       "      <td>https://www.archanaskitchen.com/images/archana...</td>\n",
       "      <td>12</td>\n",
       "    </tr>\n",
       "  </tbody>\n",
       "</table>\n",
       "</div>"
      ],
      "text/plain": [
       "                                TranslatedRecipeName  \\\n",
       "0                               Masala Karela Recipe   \n",
       "1                         Spicy Tomato Rice (Recipe)   \n",
       "2  Ragi Semiya Upma Recipe - Ragi Millet Vermicel...   \n",
       "3  Gongura Chicken Curry Recipe - Andhra Style Go...   \n",
       "4  Andhra Style Alam Pachadi Recipe - Adrak Chutn...   \n",
       "\n",
       "                               TranslatedIngredients  TotalTimeInMins  \\\n",
       "0  1 tablespoon Red Chilli powder,3 tablespoon Gr...               45   \n",
       "1   2 teaspoon cashew - or peanuts, 1/2 Teaspoon ...               15   \n",
       "2  1 Onion - sliced,1 teaspoon White Urad Dal (Sp...               50   \n",
       "3  1/2 teaspoon Turmeric powder (Haldi),1 tablesp...               45   \n",
       "4   oil - as per use, 1 tablespoon coriander seed...               30   \n",
       "\n",
       "                Cuisine                             TranslatedInstructions  \\\n",
       "0                Indian  to begin making the masala karela recipe de se...   \n",
       "1  South Indian Recipes  to make tomato puliogere  first cut the tomato...   \n",
       "2  South Indian Recipes  to begin making the ragi vermicelli recipe  fi...   \n",
       "3                Andhra  to begin making gongura chicken curry recipe f...   \n",
       "4                Andhra  to make andhra style alam pachadi  first heat ...   \n",
       "\n",
       "                                                 URL  \\\n",
       "0  https://www.archanaskitchen.com/masala-karela-...   \n",
       "1  https://www.archanaskitchen.com/spicy-tomato-r...   \n",
       "2  https://www.archanaskitchen.com/ragi-vermicell...   \n",
       "3  https://www.archanaskitchen.com/gongura-chicke...   \n",
       "4  https://www.archanaskitchen.com/andhra-style-a...   \n",
       "\n",
       "                                 Cleaned-Ingredients  \\\n",
       "0  salt,amchur (dry mango powder),karela (bitter ...   \n",
       "1  tomato,salt,chickpea lentils,green chilli,rice...   \n",
       "2  salt,rice vermicelli noodles (thin),asafoetida...   \n",
       "3  tomato,salt,ginger,sorrel leaves (gongura),fen...   \n",
       "4  tomato,salt,ginger,red chillies,curry,asafoeti...   \n",
       "\n",
       "                                           image-url  Ingredient-count  \n",
       "0  https://www.archanaskitchen.com/images/archana...                10  \n",
       "1  https://www.archanaskitchen.com/images/archana...                12  \n",
       "2  https://www.archanaskitchen.com/images/archana...                12  \n",
       "3  https://www.archanaskitchen.com/images/archana...                15  \n",
       "4  https://www.archanaskitchen.com/images/archana...                12  "
      ]
     },
     "execution_count": 23,
     "metadata": {},
     "output_type": "execute_result"
    }
   ],
   "source": [
    "df.head()"
   ]
  },
  {
   "cell_type": "code",
   "execution_count": 25,
   "id": "d980315d-09fd-45eb-b9f9-7a4464f0b3aa",
   "metadata": {},
   "outputs": [],
   "source": [
    "df.to_csv(\"food_receipes.txt\", columns=[\"TranslatedInstructions\"], header = None, index = False)"
   ]
  },
  {
   "cell_type": "raw",
   "id": "f40af254-25ec-42f6-b1e7-0185ac15e404",
   "metadata": {},
   "source": [
    "# word2vec and Fasttext are unsupervised training models\n",
    "model = fasttext.train_unsupervised(\"food_receipes.txt\")\n",
    "\n",
    "model.get_nearest_neighbors(\"chutney\")\n",
    "\n",
    "[(0.9504611492156982, 'chutneys'),\n",
    " (0.7339446544647217, 'imli'),\n",
    " (0.7242112755775452, 'dhaniya'),\n",
    " (0.7055650353431702, 'pudina'),\n",
    " (0.6984171271324158, 'khajur'),\n",
    " (0.6709029674530029, 'mavinakayi'),\n",
    " (0.6576716303825378, 'ratalu'),\n",
    " (0.6567045450210571, 'heerekai'),\n",
    " (0.6536096334457397, 'pudi'),\n",
    " (0.6535494327545166, 'gothsu')]\n",
    "\n"
   ]
  }
 ],
 "metadata": {
  "kernelspec": {
   "display_name": "Python 3 (ipykernel)",
   "language": "python",
   "name": "python3"
  },
  "language_info": {
   "codemirror_mode": {
    "name": "ipython",
    "version": 3
   },
   "file_extension": ".py",
   "mimetype": "text/x-python",
   "name": "python",
   "nbconvert_exporter": "python",
   "pygments_lexer": "ipython3",
   "version": "3.11.5"
  }
 },
 "nbformat": 4,
 "nbformat_minor": 5
}
